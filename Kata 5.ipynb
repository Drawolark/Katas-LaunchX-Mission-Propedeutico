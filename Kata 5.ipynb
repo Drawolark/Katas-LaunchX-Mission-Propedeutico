{
 "cells": [
  {
   "cell_type": "code",
   "execution_count": 6,
   "metadata": {},
   "outputs": [],
   "source": [
    "# Kata 5 ejercicios y notas"
   ]
  },
  {
   "cell_type": "markdown",
   "metadata": {},
   "source": [
    "# Ejercicio 1"
   ]
  },
  {
   "cell_type": "code",
   "execution_count": 7,
   "metadata": {},
   "outputs": [],
   "source": [
    "# Crear variables para almacenar las dos distancias\n",
    "# ¡Asegúrate de quitar las comas!\n",
    "Dist_Tierra= 149597870\n",
    "Dist_Jupiter= 778547200"
   ]
  },
  {
   "cell_type": "code",
   "execution_count": 8,
   "metadata": {},
   "outputs": [
    {
     "name": "stdout",
     "output_type": "stream",
     "text": [
      "628949330\n",
      "390577534\n"
     ]
    }
   ],
   "source": [
    "# Calcular la distancia entre planetas\n",
    "Resta=  abs(Dist_Tierra-Dist_Jupiter)\n",
    "Millas= Resta*0.621\n",
    "print(Resta)\n",
    "print(round(Millas))"
   ]
  },
  {
   "cell_type": "markdown",
   "metadata": {},
   "source": [
    "# Ejercicio 2"
   ]
  },
  {
   "cell_type": "code",
   "execution_count": 9,
   "metadata": {},
   "outputs": [],
   "source": [
    "# Usando input, agrega el código para leer la distancia del sol\n",
    "# para cada planeta, considerando 2 planetas.\n",
    "# Almacenar las entradas del usuario\n",
    "# Pista: variable = input(\"¿Cuál es tu nombre?\")\n",
    "captura=input(\"¿Captura la distancia del sol para cada planeta?\")\n",
    "# 50000\n",
    "captura2=input(\"¿Captura la distancia del sol para cada planeta?\")\n",
    "# 1200000"
   ]
  },
  {
   "cell_type": "code",
   "execution_count": 10,
   "metadata": {},
   "outputs": [
    {
     "ename": "ValueError",
     "evalue": "invalid literal for int() with base 10: ''",
     "output_type": "error",
     "traceback": [
      "\u001b[1;31m---------------------------------------------------------------------------\u001b[0m",
      "\u001b[1;31mValueError\u001b[0m                                Traceback (most recent call last)",
      "\u001b[1;32mc:\\Users\\Aleksander\\OneDrive\\Escritorio\\Kata 5.ipynb Cell 7'\u001b[0m in \u001b[0;36m<module>\u001b[1;34m\u001b[0m\n\u001b[0;32m      <a href='vscode-notebook-cell:/c%3A/Users/Aleksander/OneDrive/Escritorio/Kata%205.ipynb#ch0000006?line=0'>1</a>\u001b[0m \u001b[39m# Convierte las cadenas de ambos planetas a números enteros\u001b[39;00m\n\u001b[1;32m----> <a href='vscode-notebook-cell:/c%3A/Users/Aleksander/OneDrive/Escritorio/Kata%205.ipynb#ch0000006?line=1'>2</a>\u001b[0m captura\u001b[39m=\u001b[39m(\u001b[39mint\u001b[39;49m(captura))\n\u001b[0;32m      <a href='vscode-notebook-cell:/c%3A/Users/Aleksander/OneDrive/Escritorio/Kata%205.ipynb#ch0000006?line=2'>3</a>\u001b[0m captura2\u001b[39m=\u001b[39m(\u001b[39mint\u001b[39m(captura2))\n",
      "\u001b[1;31mValueError\u001b[0m: invalid literal for int() with base 10: ''"
     ]
    }
   ],
   "source": [
    "# Convierte las cadenas de ambos planetas a números enteros\n",
    "captura=(int(captura))\n",
    "captura2=(int(captura2))"
   ]
  },
  {
   "cell_type": "code",
   "execution_count": null,
   "metadata": {},
   "outputs": [],
   "source": [
    "# Realizar el cálculo y determinar el valor absoluto\n",
    "result= abs((captura-captura2))\n",
    "print(result)\n",
    "# Convertir de KM a Millas\n",
    "conversion= result * 0.621\n",
    "print(conversion)"
   ]
  },
  {
   "cell_type": "markdown",
   "metadata": {},
   "source": [
    "# NOTAS"
   ]
  },
  {
   "cell_type": "markdown",
   "metadata": {},
   "source": [
    "# Convertir cadenas en numeros indicamos el tipo de numero que deseamos crear\n",
    "# El si se necesita un numero entero o de un punto decimal\n",
    "demo_int = int('215')\n",
    "print(demo_int)"
   ]
  },
  {
   "cell_type": "code",
   "execution_count": null,
   "metadata": {},
   "outputs": [],
   "source": [
    "# operadores aritméticos\n",
    "# conversion de cadenas en números y usa valores absolutos\n"
   ]
  },
  {
   "cell_type": "markdown",
   "metadata": {},
   "source": [
    "# Jerarquias"
   ]
  },
  {
   "cell_type": "code",
   "execution_count": null,
   "metadata": {},
   "outputs": [],
   "source": [
    "# 1.- Paréntesis\n",
    "# 2.- Exponentes\n",
    "# 3.- Multiplicación y división\n",
    "# 4.- Suma y resta\n",
    "result_1 = 1032 + 26 * 2\n",
    "result_2 = 1032 + (26 * 2)\n",
    "print(result_1)\n",
    "print(result_2)"
   ]
  },
  {
   "cell_type": "markdown",
   "metadata": {},
   "source": [
    "# Division"
   ]
  },
  {
   "cell_type": "code",
   "execution_count": null,
   "metadata": {},
   "outputs": [],
   "source": [
    "# Convertir un número de segundos en minutos y segundos para la visualización.\n",
    "seconds = 1042\n",
    "# Para realizar la división de piso en Python, utilizamos .10426017.366666717//\n",
    "seconds = 1042\n",
    "display_minutes = 1042 // 60\n",
    "print(display_minutes)"
   ]
  }
 ],
 "metadata": {
  "interpreter": {
   "hash": "c0180968fdb1f1250d6a705a21bbe6f1e2ba1eee4347a2c0211f9dd3c8f6f302"
  },
  "kernelspec": {
   "display_name": "Python 3.10.2 64-bit",
   "language": "python",
   "name": "python3"
  },
  "language_info": {
   "codemirror_mode": {
    "name": "ipython",
    "version": 3
   },
   "file_extension": ".py",
   "mimetype": "text/x-python",
   "name": "python",
   "nbconvert_exporter": "python",
   "pygments_lexer": "ipython3",
   "version": "3.10.2"
  },
  "orig_nbformat": 4
 },
 "nbformat": 4,
 "nbformat_minor": 2
}
